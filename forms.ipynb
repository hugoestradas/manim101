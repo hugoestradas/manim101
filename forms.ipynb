{
 "cells": [
  {
   "cell_type": "code",
   "execution_count": 12,
   "id": "d0884ea5-9969-4004-98bd-acbfcf1e8e6b",
   "metadata": {},
   "outputs": [],
   "source": [
    "from manim import *\n",
    "import numpy as np\n",
    "import random"
   ]
  },
  {
   "cell_type": "code",
   "execution_count": 17,
   "id": "4f9567ce-135e-4936-9352-f55d9f431b92",
   "metadata": {},
   "outputs": [
    {
     "name": "stderr",
     "output_type": "stream",
     "text": [
      "<string>:9: DeprecationWarning: This method is not guaranteed to stay around. Please prefer setting the attribute normally or with Mobject.set().\n",
      "<string>:10: DeprecationWarning: This method is not guaranteed to stay around. Please prefer setting the attribute normally or with Mobject.set().\n",
      "                                                                              \r"
     ]
    },
    {
     "data": {
      "text/html": [
       "<video src=\"media/jupyter/FittingObjects@2021-09-23@05-14-12.mp4\" controls autoplay loop style=\"max-width: 25vw;\"  >\n",
       "      Your browser does not support the <code>video</code> element.\n",
       "    </video>"
      ],
      "text/plain": [
       "<IPython.core.display.Video object>"
      ]
     },
     "metadata": {},
     "output_type": "display_data"
    }
   ],
   "source": [
    "%%manim -qm -v WARNING FittingObjects\n",
    "\n",
    "class FittingObjects(Scene):\n",
    "    def construct(self):\n",
    "        axes = Axes (x_range=[-3,3,1], y_range=[-3,3,1],\n",
    "        x_length=6, y_length=6)\n",
    "        axes.to_edge (LEFT, buff=0.5)\n",
    "        circle = Circle(stroke_width=6, stroke_color = YELLOW,\n",
    "        fill_color = RED_C, fill_opacity = 0.8)\n",
    "        circle.set_width(2).to_edge(DR, buff=0)\n",
    "        triangle = Triangle(stroke_color = ORANGE, stroke_width = 10,\n",
    "        fill_color = GREY).set_height(2).shift(DOWN* 3+RIGHT*3)\n",
    "        self.play(Write(axes))\n",
    "        self.play(DrawBorderThenFill(circle))\n",
    "        self.play(circle.animate.set_width(1))\n",
    "        self.play (Transform(circle, triangle), run_time=3)"
   ]
  },
  {
   "cell_type": "code",
   "execution_count": null,
   "id": "54bf46c0-5900-457f-9707-72c5ee7e513b",
   "metadata": {},
   "outputs": [],
   "source": []
  }
 ],
 "metadata": {
  "kernelspec": {
   "display_name": "Python 3 (ipykernel)",
   "language": "python",
   "name": "python3"
  },
  "language_info": {
   "codemirror_mode": {
    "name": "ipython",
    "version": 3
   },
   "file_extension": ".py",
   "mimetype": "text/x-python",
   "name": "python",
   "nbconvert_exporter": "python",
   "pygments_lexer": "ipython3",
   "version": "3.8.12"
  }
 },
 "nbformat": 4,
 "nbformat_minor": 5
}
